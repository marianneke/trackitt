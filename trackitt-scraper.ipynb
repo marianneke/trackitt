{
 "cells": [
  {
   "cell_type": "markdown",
   "metadata": {},
   "source": [
    "# Green Card Application Tracker: `trackitt.com`\n",
    "\n",
    "\n",
    "The website `trackitt.com` has a very useful feature: the Green Card Tracker (I-140 tracker). This provides users with data on processing time, as well as approvals/rejections/RFEs. However, if the user wants to do their own analysis, there is no convenient way to download the data (even though it is public). Therefore, I have written this very simple scraper that downloads all cases submitted to `trackitt.com` and stores their data in a `csv` file named `trackitt_data_yyyy-mm-dd.csv`, with `yyyy`, `mm`, and `dd` the current year, month and day of the month, respectively.\n",
    "\n",
    "Potential improvements to this code are:\n",
    "- Download all applications, including ones that have been resolved\n",
    "- Allow the option to only download select data (e.g. filter based on country of origin, case status, filing date, RFE y/n, etc.)\n",
    "- Automatically search detailed page to replace snippet in 'notes' section with full text."
   ]
  },
  {
   "cell_type": "code",
   "execution_count": 1,
   "metadata": {
    "collapsed": true
   },
   "outputs": [],
   "source": [
    "import numpy as np\n",
    "import pandas as pd\n",
    "\n",
    "from matplotlib import pyplot as plt\n",
    "\n",
    "import scrape_utils\n",
    "\n",
    "% matplotlib inline\n",
    "pd.options.display.max_columns = 30"
   ]
  },
  {
   "cell_type": "markdown",
   "metadata": {},
   "source": [
    "## Download Data"
   ]
  },
  {
   "cell_type": "markdown",
   "metadata": {},
   "source": [
    "### [Option 1] All data (warning: can take long)\n",
    "\n",
    "If you simply want to download all available data for i-140 cases (which includes categories EB1, EB2, EB3, EB4 and EB5), running the following cell will store all data in a Pandas DataFrame."
   ]
  },
  {
   "cell_type": "code",
   "execution_count": 3,
   "metadata": {
    "collapsed": false
   },
   "outputs": [
    {
     "name": "stdout",
     "output_type": "stream",
     "text": [
      " . . . . . . . . . . . . . . . . . . . . . . . . . . . . . . . . . . . . . . . . . . . . . . . . . . . . . . . . . . . . . . . . . . . . . . . . . . . . . . . . . . . . . . . . . . . . . . . . . . .  100 \n",
      ". . . . . . . . . . . . . . . . . . . . . . . . . . . . . . . . . . . . . . . . . . . . . . . . . . . . . . . . . . . . . . . . . . . . . . . . . . . . . . . . . . . . . . . . . . . . . . . . . . .  200 \n",
      ". . . . . . . . . . . . . . . . . . . . . . . . . . . . . . . . . . . . . . . . . . . . . . . . . . . . . . . . . . . . . . . . . . . . . . . . . . . . . . . . . . . . . . . . . . . . . . . . . . .  300 \n",
      ". . . . . . . . . . . . . . . . . . . . . . . . . . . . . . . . . . . . . . . . . . . . . . . . . . . . . . . . . . . . . . . . . . . . . . . . . . . . . . . . . . . . . . . . . . . . . . . . . . .  400 \n",
      ". . . . . . . . . . . . . . . . . . . . . . . . . . . . . . . . . . . . . . . . . . . . . . . . . . . . . . . . . . . . . . . . . . . . . . . . . . . . . . . . . . . . . . . . . . . . . . . . . . .  500 \n",
      ". . . . . . . . . . . . . . . . . . . . . . . . . . . . . . . . . . . . . . . . . . . . . . . . . . . . . . . . . . . . . . . . . . . . . . . . . . . . . . . . . . . . . . . . . . . . . . . . . . .  600 \n",
      ". . . . . . . . . . . . . . . . . . . . . . . . . . . . . . . . . . . . . . . .\n"
     ]
    }
   ],
   "source": [
    "n_pages = scrape_utils.trackitt_number_of_pages(scrape_utils.URL_DATA_TABLE % 1)\n",
    "\n",
    "results = []\n",
    "for i in range(1, (n_pages + 1)):\n",
    "    if i % 100:\n",
    "        print '.',\n",
    "    else:\n",
    "        print ' %d ' % i\n",
    "    table = scrape_utils.trackitt_data_table_soup(scrape_utils.URL_DATA_TABLE, pagenum=i)\n",
    "    results.append(scrape_utils.dataframe_from_trackitt_table(table))\n",
    "\n",
    "data = pd.concat(results).drop_duplicates().reset_index(drop=True)"
   ]
  },
  {
   "cell_type": "markdown",
   "metadata": {},
   "source": [
    "### [Option 2] Select Data Using Filter\n",
    "\n",
    "In case you are only interested in a subset of the data, for instance if you only want to include cases of the particular category you're planning to apply in, you can download a subset of the data using filters."
   ]
  },
  {
   "cell_type": "code",
   "execution_count": null,
   "metadata": {
    "collapsed": true
   },
   "outputs": [],
   "source": [
    "# TODO: implement filters"
   ]
  },
  {
   "cell_type": "markdown",
   "metadata": {},
   "source": [
    "### Add Notes (warning: can take long)\n",
    "\n",
    "Some cases have notes. The basic results page containing the cases in a table clips these notes, so in order to have them complete, we have to find the cases where a note was clipped, and replace the notes in the data with the complete notes from that case page."
   ]
  },
  {
   "cell_type": "code",
   "execution_count": null,
   "metadata": {
    "collapsed": false
   },
   "outputs": [
    {
     "name": "stdout",
     "output_type": "stream",
     "text": [
      ". . . . . . . . . . . . . . . . . . . . . . . . . . . . . . . . . . . . . . . . . . . . . . . . . . . . . . . . . . . . . . . . . . . . . . . . . . . . . . . . . . . . . . . . . . . . . . . . . . . . . . . . . . . . . . . . . . . . . . . . . . . . . . . . . . . . . . . . . . . . . . . . . . . . . . . . . . . . . . . . . . . . . . . . . . . . . . . . . . . . . . . . . . . . . . . . . . . . . . . . . . . . . . . . . . . . . . . . . . . . . . . . . . . . . . . . . . . . . . . . . . . . . . . . . . . . . . . . . . . . . . . . . . . . . . . . . . . . . . . . . . . . . . . . . . . . . . . . . . . . . . . . . . . . . . . . . . . . . . . . . . . . . . . . . . . . . . . . . . . . . . . . . . . . . . . . . . . . . . . . . . . . . . . . . . . . . . . . . . . . . . . . . . . . . . . . . . . . . . . . . . . . . . . . . . . . . . . . . . . . . . . . . . . . . . . . . . . . . . . . . . . . . . . . . . . . . . . . . . . . . . . . . . . . . . . . . . . . . . . . . . . . . . . . . . . . . . . . . . . . . . . . . . . . . . . . . . . . . . . . . . . . . . . . . . . . . . . . . . . . . . . . . . . . . . . . . . . . . . . . . . . . . . . . . . . . . . . . . . . . . . . . . . . . . . . . . . . . . . . . . . . . . . . . . . . . . . . . . . . . . . . . . . . . . . . . . . . . . . . . . . . . . . . . . . . . . . . . . . . . . . . . . . . . . . . . . . . . . . . . . . . . . . . . . . . . . . . . . . . . . . . . . . . . . . . . . . . . . . . . . . . . . . . . . . . . . . . . . . . . . . . . . . . . . . . . . . . . . . . . . . . . . . . . . . . . . . . . . . . . . . . . . . . . . . . . . . . . . . . . . . . . . . . . . . . . . . . . . . . . . . . . . . . . . . . . . . . . . . . . . . . . . . . . . . . . . . . . . . . . . . . . . . . . . . . . . . . . . . . . . . . . . . . . . . . . . . . . . . . . . . . . . . . . . . . . . . . . . . . . . . . . . . . . . . . . . . . . . . . . . . . . . . . . . . . . . . . . . . . . . . . . . . . . . . . . . . . . . . . . . . . . . . . . . . . . . . . . . . . . . . . . . . . . . . . . . . . . . . . . . . . . . . . . . . . . . . . . . . . . . . . . . . . . . . . . . . . . . . . . . . . . . . . . . . . . . . . . . . . . . . . . . . . . . . . . . . . . . . . . . . . . . . . . . . . . . . . . . . . . . . . . . . . . . . . . . . . . . . . . . . . . . . . . . . . . . . . . . . . . . . . . . . . . . . . . . . . . . . . . . . . . . . . . . . . . . . . . . . . . . . . . . . . . . . . . . . . . . . . . . . . . . . . . . . . . . . . . . . . . . . . . . . . . . . . . . . . . . . . . . . . . . . . . . . . . . . . . . . . . . . . . . . . . . . . . . . . . . . . . . . . . . . . . . . . . . . . . . . . . . . . . . . . . . . . . . . . . . . . . . . . . . . . . . . . . . . . . . . . . . . . . . . . . . . . . . . . . . . . . . . . . . . . . . . . . . . . . . . . . . . . . . . . . . . . . . . . . . . . . . . . . . . . . . . . . . . . . . . . . . . . . . . . . . . . . . . . . . . . . . . . . . . . . . . . . . . . . . . . . . . . . . . . . . . . . . . . . . . . . . . . . . . . . . . . . . . . . . . . . . . . . . . . . . . . . . . . . . . . . . . . . . . . . . . . . . . . . . . . . . . . . . . . . . . . . . . . . . . . . . . . . . . . . . . . . . . . . . . . . . . . . . . . . . . . . . . . . . . . . . . . . . . . . . . . . . . . . . . . . . . . . . . . . . . . . . . . . . . . . . . . . . . . . . . . . . . . . . . . . . . . . . . . . . . . . . . . . . . . . . . . . . . . . . . . . . . . . . . . . . . . . . . . . . . . . . . . . . . . . . . . . . . . . . . . . . . . . . . . . . . . . . . . . . . . . . . . . . . . . . . . . . . . . . . . . . . . . . . . . . . . . . . . . . . . . . . . . . . . . . . . . . . . . . . . . . . . . . . . . . . . . . . . . . . . . . . . . . . . . . . . . . . . . . . . . . . . . . . . . . . . . . . . . . . . . . . . . . . . . . . . . . . . . . . . . . . . . . . . . . . . . . . . . . . . . . . . . . . . . . . . . . . . . . . . . . . . . . . . . . . . . . . . . . . . . . . . . . . . . . . . . . . . . . . . . . . . . . . . . . . . . . . . . . . . . . . . . . . . . . . . . . . . . . . . . . . . . . . . . . . . . . . . . . . . . . . . . . . . . . . . . . . . . . . . . . . . . . . . . . . . . . . . . . . . . . . . . . . . . . . . . . . . . . . . . . . . . . . . . . . . . . . . . . . . . . . . . . . . . . . . . . . . . . . . . . . . . . . . . . . . . . . . . . . . . . . . . . . . . . . . . . . . . . . . . . . . . . . . . . . . . . . . . . . . . . . . . . . . . . . . . . . . . . . . . . . . . . . . . . . . . . . . . . . . . . . . . . . . . . . . . . . . . . . . . . . . . . . . . . . . . . . . . . . . . . . . . . . . . . . . . . . . . . . . . . . . . . . . . . . . . . . . . . . . . . . . . . . . . . . . . . . . . . . . . . . . . . . . . . . . . . . . . . . . . . . . . . . . . . . . . . . . . . . . . . . . . . . . . . . . . . . . . . . . . . . . . . . . . . . . . . . . . . . . . . . . . . . . . . . . . . . . . . . . . . . . . . . . . . . . . . . . . . . . . . . . . . . . . . . . . . . . . . . . . . . . . . . . . . . . . . . . . . . . . . . . . . . . . . . . . . . . . . . . . . . . . . . . . . . . . . . . . . . . . . . . . . . . . . . . . . . . . . . . . . . . . . . . . . . . . . . . . . . . . . . . . . . . . . . . . . . . . . . . . . . . . . . . . . . . . . . . . . . . . . . . . . . . . . . . . . . . . . . . . . . . . . . . . . . . . . . . . . . . . . . . . . . . . . . . . . . . . . . . . . . . . . . . . . . . . . . . . . . . . . . . . . . . . . . . . . . . . . . . . . . . . . . . . . . . . . . . . . . . . . . . . . . . . . . . . . . . . . . . . . . . . . . . . . . . . . . . . . . . . . . . . . . . . . . . . . . . . . . . . . . . . . . . . . . . . . . . . . . . . . . . . . . . . . . . . . . . . . . . . . . . . . . . . . . . . . . . . . . . . . . . . . . . . . . . . . . . . . . . . . . . . . . . . . . . . . . . . . . . . . . . . . . . . . . . . . . . . . . . . . . . . . . . . . . . . . . . . . . . . . . . . . . . . . . . . . . . . . . . . . . . . . . . . . . . . . . . . . . . . . . . . . . . . . . . . . . . . . . . . . . . . . . . . . . . . . . . . . . . . . . . . . . . . . . . . . . . . . . . . . . . . . . . . . . . . . . . . . . . . . . . . . . . . . . . . . . . . . . . . . . . . . . . . . . . . . . . . . . . . . . . . . . . . . . . . . . . . . . . . . . . . . . . . . . . . . . . . . . . . . . . . . . . . . . . . . . . . . . . . . . . . . . . . . . . . . . . . . . . . . . . . . . . . . . . . . . . . . . . . . . . . . . . . . . . . . . . . . . . . . . . . . . . . . . . . . . . . . . . . . . . . . . . . . . . . . . . . . . . . . . . . . . . . . . . . . . . . . . . . . . . . . . . . . . . . . . . . . . . . . . . . . . . . . . . . . . . . . . . . . . . . . . . . . . . . . . . . . . . . . . . . . . . . . . . . . . . . . . . . . . . . . . . . . . . . . . . . . . . . . . . . . . . . . . . . . . . . . . . . . . . . . . . . . . . . . . . . . . . . . . . . . . . . . . . . . . . . . . . . . . . . . . . . . . . . . . . . . . . . . . . . . . . . . . . . . . . . . . . . . . . . . . . . . . . . . . . . . . . . . . . ."
     ]
    }
   ],
   "source": [
    "# Update notes using case page - TODO: allow for partial results\n",
    "data.loc[data.Notes.str.endswith('more'), 'Notes'] = data.loc[\n",
    "    data.Notes.str.endswith('more'), 'ApplicationID'].map(scrape_utils.notes_from_application_id)"
   ]
  },
  {
   "cell_type": "markdown",
   "metadata": {},
   "source": [
    "## Add number of days columns"
   ]
  },
  {
   "cell_type": "code",
   "execution_count": 4,
   "metadata": {
    "collapsed": false
   },
   "outputs": [],
   "source": [
    "data = data.assign(**{\"Number Of Days Until Approved\": lambda df: df.apply(\n",
    "    lambda s: int(s[\"Total Processing Time\"].split(\" \")[0]) if (\n",
    "        len(s[\"Total Processing Time\"]) and s[\"Application Status\"] == \"approved\") else np.nan,\n",
    "    axis=1)})"
   ]
  },
  {
   "cell_type": "code",
   "execution_count": 5,
   "metadata": {
    "collapsed": false
   },
   "outputs": [],
   "source": [
    "data = (data.assign(**{\n",
    "    \"Number Of Days Until Approved Overall Average\":\n",
    "    lambda df: df[\"Number Of Days Until Approved\"].mean(),\n",
    "    \"Number Of Days Until Approved Average By Category\":\n",
    "    lambda df: df.groupby(\"Category\")[\"Number Of Days Until Approved\"].transform(\"mean\"),\n",
    "    \"Number Of Days Until Approved Average By Category And Service Center\":\n",
    "    lambda df: df.groupby([\"Category\", \"Service Center\"])[\"Number Of Days Until Approved\"].transform(\"mean\"),\n",
    "    \"Number Of Days Until Approved Average By Nationality\":\n",
    "    lambda df: df.groupby(\"Nationality\")[\"Number Of Days Until Approved\"].transform(\"mean\")}))"
   ]
  },
  {
   "cell_type": "markdown",
   "metadata": {
    "collapsed": true
   },
   "source": [
    "# Analyses\n",
    "- Average time-to-event by Category, Country\n",
    "- Moving average time-to-event\n",
    "- Simplified Cox model\n",
    "- Competing risks analysis"
   ]
  },
  {
   "cell_type": "code",
   "execution_count": 11,
   "metadata": {
    "collapsed": false
   },
   "outputs": [
    {
     "data": {
      "text/html": [
       "<div>\n",
       "<table border=\"1\" class=\"dataframe\">\n",
       "  <thead>\n",
       "    <tr style=\"text-align: right;\">\n",
       "      <th></th>\n",
       "      <th>ApplicationID</th>\n",
       "      <th>Watch</th>\n",
       "      <th>Username</th>\n",
       "      <th>Comments</th>\n",
       "      <th>More</th>\n",
       "      <th>Nationality</th>\n",
       "      <th>Applicant Type</th>\n",
       "      <th>Service Center</th>\n",
       "      <th>Category</th>\n",
       "      <th>Priority Date</th>\n",
       "      <th>Application Filed</th>\n",
       "      <th>USCIS Received Date</th>\n",
       "      <th>USCIS Notice Date</th>\n",
       "      <th>USCIS Receipt Number</th>\n",
       "      <th>I-140/485 Filing</th>\n",
       "      <th>...</th>\n",
       "      <th>RFE Replied Date</th>\n",
       "      <th>Application Status</th>\n",
       "      <th>Approval/Denial Date</th>\n",
       "      <th>Total Processing Time</th>\n",
       "      <th>Most Recent LUD</th>\n",
       "      <th>Days Elapsed</th>\n",
       "      <th>Notes</th>\n",
       "      <th>State</th>\n",
       "      <th>Case Added to Tracker</th>\n",
       "      <th>Last Updated</th>\n",
       "      <th>Number Of Days Until Approved</th>\n",
       "      <th>Number Of Days Until Approved Average By Category</th>\n",
       "      <th>Number Of Days Until Approved Average By Category And Service Center</th>\n",
       "      <th>Number Of Days Until Approved Average By Nationality</th>\n",
       "      <th>Number Of Days Until Approved Overall Average</th>\n",
       "    </tr>\n",
       "  </thead>\n",
       "  <tbody>\n",
       "    <tr>\n",
       "      <th>0</th>\n",
       "      <td>35918</td>\n",
       "      <td></td>\n",
       "      <td>sueanne35</td>\n",
       "      <td>2 comments</td>\n",
       "      <td></td>\n",
       "      <td>South Korea</td>\n",
       "      <td>primary</td>\n",
       "      <td>Nebraska</td>\n",
       "      <td>EB2-NIW</td>\n",
       "      <td>06/20/2017</td>\n",
       "      <td>06/20/2017</td>\n",
       "      <td>06/20/2017</td>\n",
       "      <td>06/23/2017</td>\n",
       "      <td>LIN179073xxxx</td>\n",
       "      <td>concurrent</td>\n",
       "      <td>...</td>\n",
       "      <td></td>\n",
       "      <td>approved</td>\n",
       "      <td>03/09/2018</td>\n",
       "      <td>262 days</td>\n",
       "      <td></td>\n",
       "      <td></td>\n",
       "      <td>PhD in Chemistry. 8 papers. 12... more</td>\n",
       "      <td>Active</td>\n",
       "      <td>06 Jul 2017</td>\n",
       "      <td>4 minutes ago</td>\n",
       "      <td>262.0</td>\n",
       "      <td>250.735795</td>\n",
       "      <td>284.148346</td>\n",
       "      <td>193.601770</td>\n",
       "      <td>179.06057</td>\n",
       "    </tr>\n",
       "    <tr>\n",
       "      <th>1</th>\n",
       "      <td>38043</td>\n",
       "      <td></td>\n",
       "      <td>swawa</td>\n",
       "      <td>0 comments</td>\n",
       "      <td></td>\n",
       "      <td>Taiwan</td>\n",
       "      <td>primary</td>\n",
       "      <td>Nebraska</td>\n",
       "      <td>EB2-NIW</td>\n",
       "      <td></td>\n",
       "      <td>03/09/2018</td>\n",
       "      <td>03/15/2018</td>\n",
       "      <td></td>\n",
       "      <td>LIN18xxxxxxxx</td>\n",
       "      <td>non-concurrent</td>\n",
       "      <td>...</td>\n",
       "      <td></td>\n",
       "      <td>pending</td>\n",
       "      <td></td>\n",
       "      <td></td>\n",
       "      <td></td>\n",
       "      <td>6 days</td>\n",
       "      <td></td>\n",
       "      <td>Active</td>\n",
       "      <td>38 minutes ago</td>\n",
       "      <td>29 minutes ago</td>\n",
       "      <td>NaN</td>\n",
       "      <td>250.735795</td>\n",
       "      <td>284.148346</td>\n",
       "      <td>170.558081</td>\n",
       "      <td>179.06057</td>\n",
       "    </tr>\n",
       "    <tr>\n",
       "      <th>2</th>\n",
       "      <td>37781</td>\n",
       "      <td></td>\n",
       "      <td>milesdiggins</td>\n",
       "      <td>0 comments</td>\n",
       "      <td></td>\n",
       "      <td>Canada</td>\n",
       "      <td>primary</td>\n",
       "      <td>Nebraska</td>\n",
       "      <td>EB1C</td>\n",
       "      <td></td>\n",
       "      <td>02/17/2017</td>\n",
       "      <td>02/24/2017</td>\n",
       "      <td>03/07/2017</td>\n",
       "      <td></td>\n",
       "      <td>concurrent</td>\n",
       "      <td>...</td>\n",
       "      <td></td>\n",
       "      <td>pending</td>\n",
       "      <td></td>\n",
       "      <td></td>\n",
       "      <td></td>\n",
       "      <td>391 days</td>\n",
       "      <td></td>\n",
       "      <td>Active</td>\n",
       "      <td>14 Feb 2018</td>\n",
       "      <td>1 hour 25 minutes ago</td>\n",
       "      <td>NaN</td>\n",
       "      <td>247.647142</td>\n",
       "      <td>301.300482</td>\n",
       "      <td>212.430380</td>\n",
       "      <td>179.06057</td>\n",
       "    </tr>\n",
       "    <tr>\n",
       "      <th>3</th>\n",
       "      <td>15415</td>\n",
       "      <td></td>\n",
       "      <td>rpoojari</td>\n",
       "      <td>0 comments</td>\n",
       "      <td></td>\n",
       "      <td>India</td>\n",
       "      <td>primary</td>\n",
       "      <td>Texas</td>\n",
       "      <td>EB3</td>\n",
       "      <td>06/07/2010</td>\n",
       "      <td>09/15/2010</td>\n",
       "      <td>09/21/2010</td>\n",
       "      <td>09/21/2010</td>\n",
       "      <td></td>\n",
       "      <td>non-concurrent</td>\n",
       "      <td>...</td>\n",
       "      <td></td>\n",
       "      <td>approved</td>\n",
       "      <td>10/01/2012</td>\n",
       "      <td>747 days</td>\n",
       "      <td></td>\n",
       "      <td></td>\n",
       "      <td></td>\n",
       "      <td>Active</td>\n",
       "      <td>07 Jan 2011</td>\n",
       "      <td>2 hours 11 minutes ago</td>\n",
       "      <td>747.0</td>\n",
       "      <td>271.152992</td>\n",
       "      <td>230.398746</td>\n",
       "      <td>167.640196</td>\n",
       "      <td>179.06057</td>\n",
       "    </tr>\n",
       "    <tr>\n",
       "      <th>4</th>\n",
       "      <td>38042</td>\n",
       "      <td></td>\n",
       "      <td>lazyElegance</td>\n",
       "      <td>0 comments</td>\n",
       "      <td></td>\n",
       "      <td>India</td>\n",
       "      <td>primary</td>\n",
       "      <td>Nebraska</td>\n",
       "      <td>EB3</td>\n",
       "      <td>09/22/2017</td>\n",
       "      <td>03/05/2018</td>\n",
       "      <td>03/06/2018</td>\n",
       "      <td></td>\n",
       "      <td></td>\n",
       "      <td>non-concurrent</td>\n",
       "      <td>...</td>\n",
       "      <td></td>\n",
       "      <td>approved</td>\n",
       "      <td>03/15/2018</td>\n",
       "      <td>10 days</td>\n",
       "      <td></td>\n",
       "      <td></td>\n",
       "      <td></td>\n",
       "      <td>Active</td>\n",
       "      <td>4 hours 37 minutes ago</td>\n",
       "      <td>4 hours 37 minutes ago</td>\n",
       "      <td>10.0</td>\n",
       "      <td>271.152992</td>\n",
       "      <td>332.061873</td>\n",
       "      <td>167.640196</td>\n",
       "      <td>179.06057</td>\n",
       "    </tr>\n",
       "  </tbody>\n",
       "</table>\n",
       "<p>5 rows × 34 columns</p>\n",
       "</div>"
      ],
      "text/plain": [
       "  ApplicationID Watch      Username    Comments More  Nationality  \\\n",
       "0         35918           sueanne35  2 comments       South Korea   \n",
       "1         38043               swawa  0 comments            Taiwan   \n",
       "2         37781        milesdiggins  0 comments            Canada   \n",
       "3         15415            rpoojari  0 comments             India   \n",
       "4         38042        lazyElegance  0 comments             India   \n",
       "\n",
       "  Applicant Type Service Center Category Priority Date Application Filed  \\\n",
       "0        primary       Nebraska  EB2-NIW    06/20/2017        06/20/2017   \n",
       "1        primary       Nebraska  EB2-NIW                      03/09/2018   \n",
       "2        primary       Nebraska     EB1C                      02/17/2017   \n",
       "3        primary          Texas      EB3    06/07/2010        09/15/2010   \n",
       "4        primary       Nebraska      EB3    09/22/2017        03/05/2018   \n",
       "\n",
       "  USCIS Received Date USCIS Notice Date USCIS Receipt Number I-140/485 Filing  \\\n",
       "0          06/20/2017        06/23/2017        LIN179073xxxx       concurrent   \n",
       "1          03/15/2018                          LIN18xxxxxxxx   non-concurrent   \n",
       "2          02/24/2017        03/07/2017                            concurrent   \n",
       "3          09/21/2010        09/21/2010                        non-concurrent   \n",
       "4          03/06/2018                                          non-concurrent   \n",
       "\n",
       "                       ...                       RFE Replied Date  \\\n",
       "0                      ...                                          \n",
       "1                      ...                                          \n",
       "2                      ...                                          \n",
       "3                      ...                                          \n",
       "4                      ...                                          \n",
       "\n",
       "  Application Status Approval/Denial Date Total Processing Time  \\\n",
       "0           approved           03/09/2018              262 days   \n",
       "1            pending                                              \n",
       "2            pending                                              \n",
       "3           approved           10/01/2012              747 days   \n",
       "4           approved           03/15/2018               10 days   \n",
       "\n",
       "  Most Recent LUD Days Elapsed                                   Notes  \\\n",
       "0                               PhD in Chemistry. 8 papers. 12... more   \n",
       "1                       6 days                                           \n",
       "2                     391 days                                           \n",
       "3                                                                        \n",
       "4                                                                        \n",
       "\n",
       "    State   Case Added to Tracker            Last Updated  \\\n",
       "0  Active             06 Jul 2017           4 minutes ago   \n",
       "1  Active          38 minutes ago          29 minutes ago   \n",
       "2  Active             14 Feb 2018   1 hour 25 minutes ago   \n",
       "3  Active             07 Jan 2011  2 hours 11 minutes ago   \n",
       "4  Active  4 hours 37 minutes ago  4 hours 37 minutes ago   \n",
       "\n",
       "  Number Of Days Until Approved  \\\n",
       "0                         262.0   \n",
       "1                           NaN   \n",
       "2                           NaN   \n",
       "3                         747.0   \n",
       "4                          10.0   \n",
       "\n",
       "  Number Of Days Until Approved Average By Category  \\\n",
       "0                                        250.735795   \n",
       "1                                        250.735795   \n",
       "2                                        247.647142   \n",
       "3                                        271.152992   \n",
       "4                                        271.152992   \n",
       "\n",
       "  Number Of Days Until Approved Average By Category And Service Center  \\\n",
       "0                                         284.148346                     \n",
       "1                                         284.148346                     \n",
       "2                                         301.300482                     \n",
       "3                                         230.398746                     \n",
       "4                                         332.061873                     \n",
       "\n",
       "  Number Of Days Until Approved Average By Nationality  \\\n",
       "0                                         193.601770     \n",
       "1                                         170.558081     \n",
       "2                                         212.430380     \n",
       "3                                         167.640196     \n",
       "4                                         167.640196     \n",
       "\n",
       "   Number Of Days Until Approved Overall Average  \n",
       "0                                      179.06057  \n",
       "1                                      179.06057  \n",
       "2                                      179.06057  \n",
       "3                                      179.06057  \n",
       "4                                      179.06057  \n",
       "\n",
       "[5 rows x 34 columns]"
      ]
     },
     "execution_count": 11,
     "metadata": {},
     "output_type": "execute_result"
    }
   ],
   "source": [
    "data.head()"
   ]
  },
  {
   "cell_type": "markdown",
   "metadata": {},
   "source": [
    "## Top-5 Countries by Category"
   ]
  },
  {
   "cell_type": "code",
   "execution_count": null,
   "metadata": {
    "collapsed": false
   },
   "outputs": [],
   "source": [
    "data.groupby([\"Category\"]).apply(\n",
    "    lambda gp: gp.groupby(\"Nationality\")[\"ApplicationID\"].count().nlargest(5))"
   ]
  },
  {
   "cell_type": "code",
   "execution_count": null,
   "metadata": {
    "collapsed": false
   },
   "outputs": [],
   "source": [
    "data.groupby([\"Category\", \"Nationality\"])[\"ApplicationID\"].count().reset_index().groupby(\n",
    "    [\"Category\", \"Nationality\"]).nlargest(2, \"ApplicationID\")"
   ]
  },
  {
   "cell_type": "code",
   "execution_count": null,
   "metadata": {
    "collapsed": false
   },
   "outputs": [],
   "source": [
    "data.groupby([\"Category\", \"Service Center\"])[\"Number Of Days Until Approved\"].agg(\n",
    "    [\"mean\", \"median\", \"min\", \"max\"]).loc[\"EB2-NIW\"]"
   ]
  },
  {
   "cell_type": "markdown",
   "metadata": {},
   "source": [
    "## Time-to-event of case approval\n",
    "\n",
    "To have a picture of how long these cases tend to take, we can plot an empirical time-to-event curve, where the x-axis shows the time-to-event (in days), and the y-axis the percentage of cases that are still unresolved after that many days.\n",
    "\n",
    "The study of these types of problems is usually called survival analysis. In fact, this problem is one called \"competing risk\", where one studies the time-to-event for the case that there are two competing events that cannot both occur. In the case of a Green Card application, those events are \"approval\" and \"denial\"."
   ]
  },
  {
   "cell_type": "code",
   "execution_count": null,
   "metadata": {
    "collapsed": true
   },
   "outputs": [],
   "source": [
    "import lifelines"
   ]
  },
  {
   "cell_type": "code",
   "execution_count": null,
   "metadata": {
    "collapsed": false
   },
   "outputs": [],
   "source": [
    "km = lifelines.KaplanMeierFitter()\n",
    "\n",
    "km.fit(data[\"Number Of Days Until Approved\"])\n",
    "km.plot()"
   ]
  },
  {
   "cell_type": "code",
   "execution_count": null,
   "metadata": {
    "collapsed": true
   },
   "outputs": [],
   "source": []
  }
 ],
 "metadata": {
  "anaconda-cloud": {},
  "kernelspec": {
   "display_name": "Python [conda env:arena]",
   "language": "python",
   "name": "conda-env-arena-py"
  },
  "language_info": {
   "codemirror_mode": {
    "name": "ipython",
    "version": 2
   },
   "file_extension": ".py",
   "mimetype": "text/x-python",
   "name": "python",
   "nbconvert_exporter": "python",
   "pygments_lexer": "ipython2",
   "version": "2.7.13"
  },
  "latex_envs": {
   "LaTeX_envs_menu_present": true,
   "autocomplete": true,
   "bibliofile": "biblio.bib",
   "cite_by": "apalike",
   "current_citInitial": 1,
   "eqLabelWithNumbers": true,
   "eqNumInitial": 1,
   "hotkeys": {
    "equation": "Ctrl-E",
    "itemize": "Ctrl-I"
   },
   "labels_anchors": false,
   "latex_user_defs": false,
   "report_style_numbering": false,
   "user_envs_cfg": false
  },
  "toc": {
   "colors": {
    "hover_highlight": "#DAA520",
    "navigate_num": "#000000",
    "navigate_text": "#333333",
    "running_highlight": "#FF0000",
    "selected_highlight": "#FFD700",
    "sidebar_border": "#EEEEEE",
    "wrapper_background": "#FFFFFF"
   },
   "moveMenuLeft": true,
   "nav_menu": {
    "height": "48px",
    "width": "252px"
   },
   "navigate_menu": true,
   "number_sections": true,
   "sideBar": true,
   "threshold": 4,
   "toc_cell": false,
   "toc_section_display": "block",
   "toc_window_display": true,
   "widenNotebook": false
  }
 },
 "nbformat": 4,
 "nbformat_minor": 2
}
